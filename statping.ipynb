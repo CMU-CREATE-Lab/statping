{
 "cells": [
  {
   "cell_type": "code",
   "execution_count": null,
   "metadata": {},
   "outputs": [],
   "source": [
    "import io, json, os, re, requests, socket, subprocess\n",
    "\n",
    "import pandas as pd\n",
    "\n",
    "def exec_ipynb(filename_or_url):\n",
    "    nb = (requests.get(filename_or_url).json() if re.match(r'https?:', filename_or_url) else json.load(open(filename_or_url)))\n",
    "    src = [''.join(cell['source']) for cell in nb['cells'] if cell['cell_type'] == 'code']\n",
    "    exec('\\n'.join(src), globals())\n",
    "\n",
    "exec_ipynb('python-utils/utils.ipynb')\n",
    "notebook_wide_display()"
   ]
  },
  {
   "cell_type": "code",
   "execution_count": null,
   "metadata": {},
   "outputs": [],
   "source": [
    "# Read hosts to ping from Google Sheets\n",
    "googleSheetsUrl = 'https://docs.google.com/spreadsheets/d/1VSVIODqpBcFn6HtuawzAQGtUCewrzPK33_lcXoXesYk/edit#gid=0'"
   ]
  },
  {
   "cell_type": "code",
   "execution_count": null,
   "metadata": {},
   "outputs": [],
   "source": [
    "def sheetUrl2CsvUrl(sheetUrl):\n",
    "    tokens = sheetUrl.split('/')\n",
    "    assert(len(tokens) == 7)\n",
    "    assert(tokens[4] == 'd')\n",
    "    docHash = tokens[5]\n",
    "    assert(len(docHash) > 20)\n",
    "    edit = tokens[6]\n",
    "    assert edit[0:9] == 'edit#gid='\n",
    "    gid = edit[9:]\n",
    "    return 'https://docs.google.com/spreadsheets/d/' + docHash + '/export?format=csv&gid=' + gid\n",
    "\n",
    "def countPings(dest, count):\n",
    "    cmd = 'ping -n -c %d %s' % (count, dest)\n",
    "    response = subprocess_check(cmd, ignore_error=True)\n",
    "    match = re.search(r'\\d+ packets transmitted.*?(\\d+) received', response)\n",
    "    if match:\n",
    "        return int(match.group(1))\n",
    "    else:\n",
    "        raise Exception('countPings could not parse response: %s' % response)\n",
    "\n",
    "def monitorOnce():  \n",
    "    sheetContent = requests.get(sheetUrl2CsvUrl(googleSheetsUrl)).content\n",
    "    configMsg = '<a href=\"%s\">Config</a>' % googleSheetsUrl\n",
    "    df = pd.read_csv(io.BytesIO(sheetContent), na_filter=False)\n",
    "    hostname = socket.gethostname()\n",
    "\n",
    "    # Only use the records with our hostname as Tester\n",
    "    df = df[df.Tester == hostname]\n",
    "    \n",
    "    nSendPings = 5\n",
    "    nMinReceivePings = 4\n",
    "    nErrors = 0\n",
    "    for index, row in df.iterrows():\n",
    "        try:\n",
    "            target = row['Target'].strip()\n",
    "            displayname = row['Nickname'].strip() or row['Target'].strip()\n",
    "            service = row['Service'].strip()\n",
    "            if target.startswith('http://') or target.startswith('https://'):\n",
    "                try:\n",
    "                    response = requests.get(target, timeout=10)\n",
    "                    response.raise_for_status()\n",
    "                    Stat.up('%s is up' % displayname,\n",
    "                            '%s answered %d bytes (status %d), requested from %s. %s' % \n",
    "                            (target, len(response.content), response.status_code, hostname, configMsg),\n",
    "                            host=displayname,\n",
    "                            service=service)\n",
    "                except Exception as e:\n",
    "                    Stat.down('%s is down' % displayname,\n",
    "                              'Exception %s while attemping GET %s, requested from %s. %s' % \n",
    "                              (e, target, hostname, configMsg),\n",
    "                              host=displayname,\n",
    "                              service=service)\n",
    "            else:\n",
    "                nReceived = countPings(target, nSendPings)\n",
    "                if nReceived >= nMinReceivePings:\n",
    "                    Stat.up('%s is up' % displayname, \n",
    "                            '%s answered %d of %d pings from %s. %s' % \n",
    "                            (target, nReceived, nSendPings, hostname, configMsg),\n",
    "                            host=displayname,\n",
    "                            service=service)\n",
    "                else:\n",
    "                    Stat.down('%s is down' % displayname, \n",
    "                              '%s answered %d of %d pings from %s. %s' %\n",
    "                              (target, nReceived, nSendPings, hostname, configMsg),\n",
    "                              host=displayname,\n",
    "                              service=service)\n",
    "                              \n",
    "        except Exception as e:\n",
    "            Stat.critical('Exception %s while monitoring %s' % (e, displayname), service='statping')\n",
    "            nErrors += 1\n",
    "    if nErrors:\n",
    "        Stat.down('statping caught %d exceptions in monitorOnce' % nErrors, \n",
    "                  configMsg,\n",
    "                  service='statping')\n",
    "    else:\n",
    "        Stat.up('statping is monitoring %d sites' % len(df), \n",
    "                configMsg,\n",
    "                service='statping')"
   ]
  },
  {
   "cell_type": "code",
   "execution_count": null,
   "metadata": {},
   "outputs": [],
   "source": [
    "while True:\n",
    "    monitorOnce()\n",
    "    sleep_until_next_period(60)"
   ]
  },
  {
   "cell_type": "code",
   "execution_count": null,
   "metadata": {},
   "outputs": [],
   "source": []
  }
 ],
 "metadata": {
  "kernelspec": {
   "display_name": "Python 3",
   "language": "python",
   "name": "python3"
  },
  "language_info": {
   "codemirror_mode": {
    "name": "ipython",
    "version": 3
   },
   "file_extension": ".py",
   "mimetype": "text/x-python",
   "name": "python",
   "nbconvert_exporter": "python",
   "pygments_lexer": "ipython3",
   "version": "3.7.3"
  }
 },
 "nbformat": 4,
 "nbformat_minor": 2
}
